{
 "cells": [
  {
   "cell_type": "code",
   "execution_count": 54,
   "metadata": {},
   "outputs": [
    {
     "name": "stdout",
     "output_type": "stream",
     "text": [
      "['', 'NEXT', 'ADD', 'AREG', 'BREG', '']\n"
     ]
    }
   ],
   "source": [
    "import re\n",
    "line = \"NEXT: ADD AREG, BREG\"\n",
    "p = re.compile('([A-Z]+): ([A-Z]+) ([A-Z]+), ([A-Z]+)')\n",
    "print(p.split(line, maxsplit =4))"
   ]
  },
  {
   "cell_type": "code",
   "execution_count": 55,
   "metadata": {},
   "outputs": [
    {
     "data": {
      "text/plain": [
       "('ab', 'a')"
      ]
     },
     "execution_count": 55,
     "metadata": {},
     "output_type": "execute_result"
    }
   ],
   "source": [
    "import re\n",
    "p = re.compile('(a)b')\n",
    "m = p.match('ab')\n",
    "\n",
    "m.group(0 , 1)\n",
    "\n"
   ]
  },
  {
   "cell_type": "code",
   "execution_count": 56,
   "metadata": {},
   "outputs": [
    {
     "data": {
      "text/plain": [
       "('abcd', 'abc', 'b')"
      ]
     },
     "execution_count": 56,
     "metadata": {},
     "output_type": "execute_result"
    }
   ],
   "source": [
    "import re\n",
    "p = re.compile('(a(b)c)d')\n",
    "m = p.match('abcd')\n",
    "\n",
    "m.group(0 , 1 , 2)\n",
    "\n"
   ]
  },
  {
   "cell_type": "code",
   "execution_count": 57,
   "metadata": {},
   "outputs": [
    {
     "data": {
      "text/plain": [
       "<re.Match object; span=(0, 20), match='NEXT: ADD AREG, BREG'>"
      ]
     },
     "execution_count": 57,
     "metadata": {},
     "output_type": "execute_result"
    }
   ],
   "source": [
    "import re\n",
    "word = '[A-Z][A-Z0-9]*'\n",
    "p = re.compile(word+': '+word+' '+word+', '+word)\n",
    "m = p.match('NEXT: ADD AREG, BREG')\n",
    "\n",
    "m\n",
    "\n"
   ]
  },
  {
   "cell_type": "code",
   "execution_count": 58,
   "metadata": {},
   "outputs": [
    {
     "name": "stdout",
     "output_type": "stream",
     "text": [
      "['NEXT', 'ADD', 'AREG', 'BREG']\n"
     ]
    }
   ],
   "source": [
    "import re\n",
    "\n",
    "p = re.compile('\\W+')\n",
    "\n",
    "\n",
    "\n",
    "print(p.split('NEXT: ADD AREG, BREG'))\n"
   ]
  },
  {
   "cell_type": "code",
   "execution_count": 59,
   "metadata": {},
   "outputs": [
    {
     "name": "stdout",
     "output_type": "stream",
     "text": [
      "['NEXT', 'ADD', 'AREG', 'BREG']\n"
     ]
    }
   ],
   "source": [
    "import re\n",
    "\n",
    "print(re.split('\\W+','NEXT: ADD AREG, BREG'))\n"
   ]
  },
  {
   "cell_type": "code",
   "execution_count": 80,
   "metadata": {},
   "outputs": [
    {
     "name": "stdout",
     "output_type": "stream",
     "text": [
      "('NEXT', 'ADD', 'AREG', 'BREG')\n",
      "{'label': 'NEXT', 'Mnemonics': 'ADD', 'Operand1': 'AREG', 'Operand2': 'BREG'}\n"
     ]
    }
   ],
   "source": [
    "#labeling\n",
    "import re\n",
    "\n",
    "p = re.compile('(?P<label>\\w+): (?P<Mnemonics>\\w+) (?P<Operand1>\\w+), (?P<Operand2>\\w+)')\n",
    "\n",
    "\n",
    "m = p.match('NEXT: ADD AREG, BREG')\n",
    "print(m.group(1 , 2 , 3 , 4))\n",
    "print(m.groupdict())"
   ]
  },
  {
   "cell_type": "code",
   "execution_count": null,
   "metadata": {},
   "outputs": [
    {
     "name": "stdout",
     "output_type": "stream",
     "text": [
      "('NEXT', 'ADD', 'AREG', 'BREG')\n",
      "{'label': 'NEXT', 'Mnemonics': 'ADD', 'Operand1': 'AREG', 'Operand2': 'BREG'}\n"
     ]
    }
   ],
   "source": [
    "#labeling1\n",
    "import re\n",
    "\n",
    "p = re.compile('((?P<label>\\w+): )?(?P<Mnemonics>\\w+)( (?P<Operand1>\\w+))?(, (?P<Operand2>\\w+))?')\n",
    "\n",
    "\n",
    "m = p.match('NEXT: ADD AREG, BREG')\n",
    "print(m.group(1 , 2 , 3 , 4))\n",
    "print(m.groupdict())"
   ]
  },
  {
   "cell_type": "code",
   "execution_count": 83,
   "metadata": {},
   "outputs": [
    {
     "name": "stdout",
     "output_type": "stream",
     "text": [
      "('CONS1', 'DC', '1')\n",
      "{'label': 'CONS1', 'Mnemonics': 'DC', 'Operand1': '1'}\n"
     ]
    }
   ],
   "source": [
    "#labeling\n",
    "import re\n",
    "\n",
    "p = re.compile('(?P<label>\\w+) (?P<Mnemonics>D[A-Z]) (?P<Operand1>\\w+)')\n",
    "\n",
    "\n",
    "m = p.match('CONS1 DC 1')\n",
    "print(m.group(1 , 2 , 3))\n",
    "print(m.groupdict())"
   ]
  },
  {
   "cell_type": "code",
   "execution_count": 1,
   "metadata": {},
   "outputs": [
    {
     "name": "stdout",
     "output_type": "stream",
     "text": [
      "('CONS1 DC 1', 'CONS1', 'DC')\n",
      "{'label': 'CONS1', 'Mnemonics': 'DC', 'Operand1': '1'}\n"
     ]
    }
   ],
   "source": [
    "#labeling\n",
    "import re\n",
    "\n",
    "p = re.compile('((?P<label>\\w+) (?P<Mnemonics>D[A-Z]) (?P<Operand1>\\w+))')\n",
    "\n",
    "\n",
    "m = p.match('CONS1 DC 1')\n",
    "print(m.group(1 , 2 , 3))\n",
    "print(m.groupdict())"
   ]
  },
  {
   "cell_type": "code",
   "execution_count": 97,
   "metadata": {},
   "outputs": [
    {
     "data": {
      "text/plain": [
       "<re.Match object; span=(0, 3), match='aba'>"
      ]
     },
     "execution_count": 97,
     "metadata": {},
     "output_type": "execute_result"
    }
   ],
   "source": [
    "import re\n",
    "\n",
    "#all labeled re must be same\n",
    "p = re.compile('(?P<asa>a+)b(?P=asa)')\n",
    "m = p.match('abaaa')\n",
    "\n",
    "m\n",
    "\n"
   ]
  },
  {
   "cell_type": "code",
   "execution_count": 93,
   "metadata": {},
   "outputs": [
    {
     "ename": "AttributeError",
     "evalue": "'NoneType' object has no attribute 'groupdict'",
     "output_type": "error",
     "traceback": [
      "\u001b[0;31m---------------------------------------------------------------------------\u001b[0m",
      "\u001b[0;31mAttributeError\u001b[0m                            Traceback (most recent call last)",
      "\u001b[1;32m/home/altra/Akash/Programming/System Programming/System Programming Code/Assembler/lineRE.ipynb Cell 10\u001b[0m in \u001b[0;36m<cell line: 15>\u001b[0;34m()\u001b[0m\n\u001b[1;32m     <a href='vscode-notebook-cell:/home/altra/Akash/Programming/System%20Programming/System%20Programming%20Code/Assembler/lineRE.ipynb#X12sZmlsZQ%3D%3D?line=9'>10</a>\u001b[0m \u001b[39m#m = p.match('NEXT: ADD AREG, BREG')\u001b[39;00m\n\u001b[1;32m     <a href='vscode-notebook-cell:/home/altra/Akash/Programming/System%20Programming/System%20Programming%20Code/Assembler/lineRE.ipynb#X12sZmlsZQ%3D%3D?line=10'>11</a>\u001b[0m \u001b[39m#print(m.group(1 , 2 , 3 , 4))\u001b[39;00m\n\u001b[1;32m     <a href='vscode-notebook-cell:/home/altra/Akash/Programming/System%20Programming/System%20Programming%20Code/Assembler/lineRE.ipynb#X12sZmlsZQ%3D%3D?line=11'>12</a>\u001b[0m \u001b[39m#print(m.groupdict())\u001b[39;00m\n\u001b[1;32m     <a href='vscode-notebook-cell:/home/altra/Akash/Programming/System%20Programming/System%20Programming%20Code/Assembler/lineRE.ipynb#X12sZmlsZQ%3D%3D?line=13'>14</a>\u001b[0m m \u001b[39m=\u001b[39m p\u001b[39m.\u001b[39mmatch(\u001b[39m'\u001b[39m\u001b[39mCONS1 DC 1\u001b[39m\u001b[39m'\u001b[39m)\n\u001b[0;32m---> <a href='vscode-notebook-cell:/home/altra/Akash/Programming/System%20Programming/System%20Programming%20Code/Assembler/lineRE.ipynb#X12sZmlsZQ%3D%3D?line=14'>15</a>\u001b[0m \u001b[39mprint\u001b[39m(m\u001b[39m.\u001b[39;49mgroupdict())\n",
      "\u001b[0;31mAttributeError\u001b[0m: 'NoneType' object has no attribute 'groupdict'"
     ]
    }
   ],
   "source": [
    "#not working\n",
    "#not working\n",
    "#not working\n",
    "#labeling\n",
    "import re\n",
    "\n",
    "p = re.compile('((?P<label>\\w+): (?P<Mnemonics>\\w+) (?P<Operand1>\\w+), (?P<Operand2>\\w+))|((?P=label) (?P<MnemonicsDL>D[A-Z]) (?P=Operand1))')\n",
    "\n",
    "\n",
    "#m = p.match('NEXT: ADD AREG, BREG')\n",
    "#print(m.group(1 , 2 , 3 , 4))\n",
    "#print(m.groupdict())\n",
    "\n",
    "m = p.match('CONS1 DC 1')\n",
    "print(m.groupdict())\n"
   ]
  }
 ],
 "metadata": {
  "kernelspec": {
   "display_name": "Python 3.10.4 ('sysprogvenv')",
   "language": "python",
   "name": "python3"
  },
  "language_info": {
   "codemirror_mode": {
    "name": "ipython",
    "version": 3
   },
   "file_extension": ".py",
   "mimetype": "text/x-python",
   "name": "python",
   "nbconvert_exporter": "python",
   "pygments_lexer": "ipython3",
   "version": "3.10.4"
  },
  "orig_nbformat": 4,
  "vscode": {
   "interpreter": {
    "hash": "8e188419425b716be40e7982ae69eab3a3f57478fb59e09c0c72fa754ab8b265"
   }
  }
 },
 "nbformat": 4,
 "nbformat_minor": 2
}
