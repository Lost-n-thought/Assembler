{
 "cells": [
  {
   "cell_type": "markdown",
   "metadata": {},
   "source": [
    "Testing Warnings"
   ]
  },
  {
   "cell_type": "code",
   "execution_count": 2,
   "metadata": {},
   "outputs": [
    {
     "name": "stdout",
     "output_type": "stream",
     "text": [
      "5\n",
      "5\n",
      "5\n"
     ]
    },
    {
     "name": "stderr",
     "output_type": "stream",
     "text": [
      "/tmp/ipykernel_905483/890834984.py:3: UserWarning: Hello 1\n",
      "  warnings.warn(\"Hello 1\")\n"
     ]
    }
   ],
   "source": [
    "import warnings\n",
    "print(2+3)\n",
    "warnings.warn(\"Hello 1\")\n",
    "print(2+3)\n",
    "print(2+3)\n"
   ]
  }
 ],
 "metadata": {
  "kernelspec": {
   "display_name": "Python 3.10.4 ('sysprogvenv')",
   "language": "python",
   "name": "python3"
  },
  "language_info": {
   "codemirror_mode": {
    "name": "ipython",
    "version": 3
   },
   "file_extension": ".py",
   "mimetype": "text/x-python",
   "name": "python",
   "nbconvert_exporter": "python",
   "pygments_lexer": "ipython3",
   "version": "3.10.4"
  },
  "orig_nbformat": 4,
  "vscode": {
   "interpreter": {
    "hash": "8e188419425b716be40e7982ae69eab3a3f57478fb59e09c0c72fa754ab8b265"
   }
  }
 },
 "nbformat": 4,
 "nbformat_minor": 2
}
